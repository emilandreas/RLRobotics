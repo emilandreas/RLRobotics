{
 "cells": [
  {
   "cell_type": "code",
   "execution_count": null,
   "metadata": {
    "collapsed": true
   },
   "outputs": [],
   "source": [
    "%matplotlib inline\n",
    "import tensorflow as tf\n",
    "\n",
    "\n",
    "weight_initializer = tf.contrib.layers.variance_scaling_initializer()\n",
    "\n",
    "X = tf.placeholder(tf.float32, shape=[None, 1])\n",
    "#mean modeling\n",
    "hidden = tf.layers.dense(X, 4, activation=tf.nn.relu, use_bias=True, \n",
    "                         kernel_initializer=weight_initializer)\n",
    "output = tf.layers.dense(X, 1, activation=tf.nn.relu, use_bias=True,\n",
    "                         kernel_initializer=weight_initializer)\n",
    "output_mean_model = tf.nn.tanh(x, name)\n",
    "\n",
    "#variance modeling\n",
    "hidden = tf.layers.dense(X, 4, activation=tf.nn.relu, use_bias=True,\n",
    "                         kernel_initializer=weight_initializer)\n",
    "output = tf.layers.dense(X, 1, activation=tf.nn.relu, use_bias=True,\n",
    "                         kernel_initializer=weight_initializer)\n",
    "output_variance_model = tf.exp(output_variance)\n",
    "\n",
    "dist = tf.contrib.distributions.Normal()\n",
    "print('No problems')"
   ]
  },
  {
   "cell_type": "code",
   "execution_count": null,
   "metadata": {},
   "outputs": [],
   "source": [
    "print('hello')"
   ]
  }
 ],
 "metadata": {
  "kernelspec": {
   "display_name": "Python 2",
   "language": "python",
   "name": "python2"
  },
  "language_info": {
   "codemirror_mode": {
    "name": "ipython",
    "version": 2
   },
   "file_extension": ".py",
   "mimetype": "text/x-python",
   "name": "python",
   "nbconvert_exporter": "python",
   "pygments_lexer": "ipython2",
   "version": "2.7.6"
  }
 },
 "nbformat": 4,
 "nbformat_minor": 0
}
